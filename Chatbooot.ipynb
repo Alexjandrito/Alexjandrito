{
  "cells": [
    {
      "cell_type": "markdown",
      "metadata": {
        "id": "view-in-github",
        "colab_type": "text"
      },
      "source": [
        "<a href=\"https://colab.research.google.com/github/Alexjandrito/Alexjandrito/blob/main/Chatbooot.ipynb\" target=\"_parent\"><img src=\"https://colab.research.google.com/assets/colab-badge.svg\" alt=\"Open In Colab\"/></a>"
      ]
    },
    {
      "cell_type": "markdown",
      "metadata": {
        "id": "VmnhNuZo4x-3"
      },
      "source": []
    },
    {
      "cell_type": "code",
      "source": [
        "\n",
        "pip install tflearn"
      ],
      "metadata": {
        "colab": {
          "base_uri": "https://localhost:8080/"
        },
        "id": "XRfkz5T6DsK4",
        "outputId": "f6248336-0b5e-4d23-913f-a028a5545ca2"
      },
      "execution_count": null,
      "outputs": [
        {
          "output_type": "stream",
          "name": "stdout",
          "text": [
            "Looking in indexes: https://pypi.org/simple, https://us-python.pkg.dev/colab-wheels/public/simple/\n",
            "Collecting tflearn\n",
            "  Downloading tflearn-0.5.0.tar.gz (107 kB)\n",
            "\u001b[K     |████████████████████████████████| 107 kB 5.2 MB/s \n",
            "\u001b[?25hRequirement already satisfied: numpy in /usr/local/lib/python3.7/dist-packages (from tflearn) (1.21.6)\n",
            "Requirement already satisfied: six in /usr/local/lib/python3.7/dist-packages (from tflearn) (1.15.0)\n",
            "Requirement already satisfied: Pillow in /usr/local/lib/python3.7/dist-packages (from tflearn) (7.1.2)\n",
            "Building wheels for collected packages: tflearn\n",
            "  Building wheel for tflearn (setup.py) ... \u001b[?25l\u001b[?25hdone\n",
            "  Created wheel for tflearn: filename=tflearn-0.5.0-py3-none-any.whl size=127299 sha256=c3b1fb7de83fa7aebe9da051762ede20f254562888111381a183faad32831f0e\n",
            "  Stored in directory: /root/.cache/pip/wheels/5f/14/2e/1d8e28cc47a5a931a2fb82438c9e37ef9246cc6a3774520271\n",
            "Successfully built tflearn\n",
            "Installing collected packages: tflearn\n",
            "Successfully installed tflearn-0.5.0\n"
          ]
        }
      ]
    },
    {
      "cell_type": "code",
      "source": [
        "#Used in Tensorflow Model\n",
        "import numpy as np\n",
        "import tensorflow as tf\n",
        "import tflearn\n",
        "import random\n",
        "import time\n",
        "import multiprocessing\n",
        "\n",
        "#Usde to for Contextualisation and Other NLP Tasks.\n",
        "import nltk\n",
        "nltk.download('punkt')\n",
        "from nltk.stem.lancaster import LancasterStemmer\n",
        "stemmer = LancasterStemmer()\n",
        "\n",
        "#Other\n",
        "import json\n",
        "import pickle\n",
        "import warnings\n",
        "warnings.filterwarnings(\"ignore\")"
      ],
      "metadata": {
        "colab": {
          "base_uri": "https://localhost:8080/"
        },
        "id": "lCUThP5-D0Un",
        "outputId": "6d88c5c8-6ffb-4ede-bb17-b4405e4f005b"
      },
      "execution_count": null,
      "outputs": [
        {
          "output_type": "stream",
          "name": "stderr",
          "text": [
            "WARNING:tensorflow:From /usr/local/lib/python3.7/dist-packages/tensorflow/python/compat/v2_compat.py:107: disable_resource_variables (from tensorflow.python.ops.variable_scope) is deprecated and will be removed in a future version.\n",
            "Instructions for updating:\n",
            "non-resource variables are not supported in the long term\n",
            "[nltk_data] Downloading package punkt to /root/nltk_data...\n",
            "[nltk_data]   Unzipping tokenizers/punkt.zip.\n"
          ]
        }
      ]
    },
    {
      "cell_type": "code",
      "source": [
        "print(\"Procesamiento de datos.....\")\n",
        "with open('intents.json') as json_data:\n",
        "    intents = json.load(json_data)\n",
        "\n",
        "\n",
        "words = []\n",
        "classes = []\n",
        "documents = []\n",
        "ignore_words = ['?']\n",
        "print(\"Recorre el json para para convertir los datos en clases documentos  y quitar signos .......\")\n",
        "for intent in intents['intents']:\n",
        "    for pattern in intent['patterns']:\n",
        "        # tokenize each word in the sentence\n",
        "        w = nltk.word_tokenize(pattern)\n",
        "        # add to our words list\n",
        "        words.extend(w)\n",
        "        # add to documents in our corpus\n",
        "        documents.append((w, intent['tag']))\n",
        "        # add to our classes list\n",
        "        if intent['tag'] not in classes:\n",
        "            classes.append(intent['tag'])    \n",
        "\n",
        "          "
      ],
      "metadata": {
        "colab": {
          "base_uri": "https://localhost:8080/"
        },
        "id": "sBKfMtgyD5k-",
        "outputId": "24cc56fa-d401-439d-d8ae-9306b2d7a0aa"
      },
      "execution_count": null,
      "outputs": [
        {
          "output_type": "stream",
          "name": "stdout",
          "text": [
            "Procesamiento de datos.....\n",
            "Recorre el json para para convertir los datos en clases documentos  y quitar signos .......\n"
          ]
        }
      ]
    },
    {
      "cell_type": "code",
      "source": [
        "print(\"Elimina datos repetidos.......\")\n",
        "words = [stemmer.stem(w.lower()) for w in words if w not in ignore_words]\n",
        "words = sorted(list(set(words)))\n",
        "\n",
        "# remove duplicates\n",
        "classes = sorted(list(set(classes)))\n",
        "\n",
        "print (len(documents), \"documents\")\n",
        "print (len(classes), \"classes\", classes)\n",
        "print (len(words), \"unique stemmed words\", words)"
      ],
      "metadata": {
        "colab": {
          "base_uri": "https://localhost:8080/"
        },
        "id": "TExe0NhQER9K",
        "outputId": "b2aaa749-e22f-442e-c9ca-d4ae98e38ae1"
      },
      "execution_count": null,
      "outputs": [
        {
          "output_type": "stream",
          "name": "stdout",
          "text": [
            "Elimina datos repetidos.......\n",
            "121 documents\n",
            "43 classes ['HR_related_problem', 'Location', 'Weather', 'about', 'appointment status', 'cabin', 'check_leave', 'commission', 'competitors_in_market', 'configuration', 'connect_people', 'cost_lowering', 'customer_satisfaction', 'domain', 'email_id', 'factors_impacting_sale', 'forgot_password', 'gadgets', 'goodbye', 'greeting', 'highest_grossing', 'hours', 'invalid', 'key_customers', 'leave', 'maintainence', 'manufacturing_problems', 'missing_id', 'name', 'noans', 'options', 'order_components', 'order_tracking', 'predict_delay', 'predict_performance', 'project_handling_queries', 'search_department', 'search_person_by_id', 'solve_problems', 'supplier_info', 'thanks', 'turnover', 'version_update']\n",
            "226 unique stemmed words [\"'s\", ',', '.', '23a12', '23a31', '32712', '345a23', '431b67', '561a24', '562b78', '@', 'a', 'abc', 'abx', 'accid', 'ai', 'am', 'an', 'analys', 'and', 'anyon', 'appoint', 'appoit', 'ar', 'at', 'awesom', 'bas', 'be', 'been', 'benefit', 'bhat', 'bor', 'bye', 'cabin', 'cafeter', 'cal', 'can', 'canteen', 'challeng', 'chang', 'chat', 'clar', 'clear', 'commit', 'company', 'compens', 'complaint', 'compon', 'compr', 'comput', 'config', 'conflict', 'cost', 'could', 'custom', 'dat', 'day', 'delay', 'delivery', 'demand', 'depart', 'design', 'desktop', 'develop', 'do', 'doe', 'doing', 'domain', 'each', 'employ', 'ev', 'fact', 'feedback', 'find', 'fix', 'for', 'forget', 'forgot', 'from', 'gadget', 'gmail.com', 'good', 'goodby', 'gross', 'guid', 'handl', 'happy', 'has', 'hav', 'head', 'hello', 'help', 'hey', 'hi', 'highest', 'hol', 'hour', 'how', 'hr/it/projects', 'i', 'id', 'impact', 'improv', 'in', 'inform', 'insufficy', 'is', 'issu', 'it', 'job', 'key', 'kiit.ac.in', 'know', 'knowledg', 'kum', 'lack', 'laptop', 'last', 'lat', 'leav', 'leg', 'lik', 'list', 'loc', 'login', 'lov', 'low', 'mad', 'maintain', 'man', 'manod', 'manufact', 'market', 'marry', 'me', 'meet', 'memb', 'michel', 'miscommun', 'my', 'nam', 'nand', 'nearby', 'nee', 'next', 'nic', 'not', 'occ', 'of', 'off', 'on', 'op', 'ord', 'our', 'password', 'plan', 'pres', 'problem', 'produc', 'profit', 'project', 'provid', 'query', 'rais', 'rakesh', 'rat', 'record', 'rel', 'resolv', 'respons', 'risk', 'roy', 'sal', 'see', 'set', 'shantanu', 'shar', 'sharm', 'should', 'siddhart', 'skil', 'softw', 'someon', 'spec', 'step', 'stock', 'sujat', 'supply', 'target', 'team', 'thank', 'that', 'the', 'ther', 'thi', 'threats', 'til', 'tim', 'to', 'today', 'track', 'train', 'turnov', 'upd', 'urg', 'us', 'vary', 'vert', 'vp', 'want', 'was', 'we', 'weath', 'what', 'when', 'wher', 'which', 'who', 'why', 'wif', 'with', 'work', 'workforc', 'year', 'yo', 'you']\n"
          ]
        }
      ]
    },
    {
      "cell_type": "code",
      "source": [
        "print(\"Creando datos del modelo.....\")\n",
        "training = []\n",
        "output = []\n",
        "print(\"Crea una lista de salida vacia.....\")\n",
        "output_empty = [0] * len(classes)\n",
        "\n",
        "print(\"Crea el conjunto de datos de entrenamiento y bolsa de palabras..\")\n",
        "for doc in documents:\n",
        "    # initialize our bag of words\n",
        "    bag = []\n",
        "    # list of tokenized words for the pattern\n",
        "    pattern_words = doc[0]\n",
        "    # stem each word\n",
        "    pattern_words = [stemmer.stem(word.lower()) for word in pattern_words]\n",
        "    # create our bag of words array\n",
        "    for w in words:\n",
        "        bag.append(1) if w in pattern_words else bag.append(0)\n",
        "\n",
        "    # output is a '0' for each tag and '1' for current tag\n",
        "    output_row = list(output_empty)\n",
        "    output_row[classes.index(doc[1])] = 1\n",
        "\n",
        "    training.append([bag, output_row])"
      ],
      "metadata": {
        "colab": {
          "base_uri": "https://localhost:8080/"
        },
        "id": "Rf5t4efMEgXi",
        "outputId": "b432fa4c-8601-45b0-c251-8fe78bd01c6d"
      },
      "execution_count": null,
      "outputs": [
        {
          "output_type": "stream",
          "name": "stdout",
          "text": [
            "Creando datos del modelo.....\n",
            "Crea una lista de salida vacia.....\n",
            "Crea el conjunto de datos de entrenamiento y bolsa de palabras..\n"
          ]
        }
      ]
    },
    {
      "cell_type": "code",
      "source": [
        "print(\"Convertir en array para un procesamiento mas rapido..\")\n",
        "random.shuffle(training)\n",
        "training = np.array(training)\n",
        "\n",
        "from tensorflow.python.framework import ops\n",
        "\n",
        "\n",
        "print(\"Creacion de listas para entrenamiento.....\")\n",
        "train_x = list(training[:,0])\n",
        "train_y = list(training[:,1])\n",
        "print(\"Construyendo la rede neuronal..\")\n",
        "ops.reset_default_graph()"
      ],
      "metadata": {
        "colab": {
          "base_uri": "https://localhost:8080/"
        },
        "id": "MQJt-ZbuEryE",
        "outputId": "d433cc63-a6f5-45f1-9efb-656645ce75fd"
      },
      "execution_count": null,
      "outputs": [
        {
          "output_type": "stream",
          "name": "stdout",
          "text": [
            "Convertir en array para un procesamiento mas rapido..\n",
            "Creacion de listas para entrenamiento.....\n",
            "Construyendo la rede neuronal..\n"
          ]
        }
      ]
    },
    {
      "cell_type": "code",
      "source": [
        "net = tflearn.input_data(shape=[None, len(train_x[0])])\n",
        "net = tflearn.fully_connected(net, 8)\n",
        "net = tflearn.fully_connected(net, 8)\n",
        "net = tflearn.fully_connected(net, len(train_y[0]), activation='softmax')\n",
        "net = tflearn.regression(net)\n",
        "print(\"Entrenando....\")"
      ],
      "metadata": {
        "colab": {
          "base_uri": "https://localhost:8080/"
        },
        "id": "9Wox23-XFEaV",
        "outputId": "3f01bb97-d993-4969-be8d-6f806e103150"
      },
      "execution_count": null,
      "outputs": [
        {
          "output_type": "stream",
          "name": "stderr",
          "text": [
            "WARNING:tensorflow:From /usr/local/lib/python3.7/dist-packages/tflearn/initializations.py:165: calling TruncatedNormal.__init__ (from tensorflow.python.ops.init_ops) with dtype is deprecated and will be removed in a future version.\n",
            "Instructions for updating:\n",
            "Call initializer instance with the dtype argument instead of passing it to the constructor\n"
          ]
        },
        {
          "output_type": "stream",
          "name": "stdout",
          "text": [
            "Entrenando....\n"
          ]
        }
      ]
    },
    {
      "cell_type": "code",
      "source": [
        "model = tflearn.DNN(net, tensorboard_dir='tflearn_logs')"
      ],
      "metadata": {
        "id": "aXOAGZtJFS1A"
      },
      "execution_count": null,
      "outputs": []
    },
    {
      "cell_type": "code",
      "source": [
        "\n",
        "start_time = time.perf_counter()\n",
        "\n",
        "print(\"Entrenando el modelo de manera normal..\")\n",
        "model.fit(train_x, train_y, n_epoch=1000, batch_size=8, show_metric=True)\n",
        "print(\"Saving the Model.......\")\n",
        "model.save('model.tflearn')\n",
        "\n",
        "finish_time = time.perf_counter()\n",
        "print(f\"Program finished in {finish_time-start_time} seconds\")"
      ],
      "metadata": {
        "colab": {
          "base_uri": "https://localhost:8080/"
        },
        "id": "lrt5UzfxFX0W",
        "outputId": "d020f1f9-ac6f-4a89-c71c-7d749a9ac337"
      },
      "execution_count": null,
      "outputs": [
        {
          "output_type": "stream",
          "name": "stdout",
          "text": [
            "Training Step: 15999  | total loss: \u001b[1m\u001b[32m0.39202\u001b[0m\u001b[0m | time: 0.123s\n",
            "| Adam | epoch: 1000 | loss: 0.39202 - acc: 0.9728 -- iter: 120/121\n",
            "Training Step: 16000  | total loss: \u001b[1m\u001b[32m0.35312\u001b[0m\u001b[0m | time: 0.131s\n",
            "| Adam | epoch: 1000 | loss: 0.35312 - acc: 0.9755 -- iter: 121/121\n",
            "--\n",
            "Saving the Model.......\n",
            "Program finished in 174.863750366 seconds\n"
          ]
        }
      ]
    },
    {
      "cell_type": "code",
      "source": [
        "start_time = time.perf_counter()\n",
        "\n",
        "print(\"Entrenando el modelo con threads.\") \n",
        "\n",
        "# Now we will evaluated with more threads\n",
        "threads=[]\n",
        "N_THREADS=5\n",
        "for i in range(N_THREADS):\n",
        "    threads.append(multiprocessing.Process(model.fit(train_x, train_y, n_epoch=200, batch_size=8, show_metric=True),\"\"))\n",
        "\n",
        "for thread in threads:\n",
        "    thread.start()\n",
        "    \n",
        "for thread in threads:\n",
        "    thread.join()\n",
        "\n",
        "print(\"Guarda el modelo..\")\n",
        "model.save('model.tflearn')\n",
        "\n",
        "finish_time = time.perf_counter()\n",
        "print(f\"Program finished in {finish_time-start_time} seconds\")"
      ],
      "metadata": {
        "colab": {
          "base_uri": "https://localhost:8080/"
        },
        "id": "FbIb5VXnIQur",
        "outputId": "1d849c40-c0ff-4bf3-aa58-7b719376fbdc"
      },
      "execution_count": null,
      "outputs": [
        {
          "output_type": "stream",
          "name": "stdout",
          "text": [
            "Training Step: 31999  | total loss: \u001b[1m\u001b[32m0.01273\u001b[0m\u001b[0m | time: 0.093s\n",
            "| Adam | epoch: 2000 | loss: 0.01273 - acc: 0.9864 -- iter: 120/121\n",
            "Training Step: 32000  | total loss: \u001b[1m\u001b[32m0.01935\u001b[0m\u001b[0m | time: 0.101s\n",
            "| Adam | epoch: 2000 | loss: 0.01935 - acc: 0.9878 -- iter: 121/121\n",
            "--\n",
            "Guarda el modelo..\n",
            "Program finished in 183.065999966 seconds\n"
          ]
        }
      ]
    },
    {
      "cell_type": "code",
      "source": [
        "print(\"Se guarda el array..\")\n",
        "pickle.dump( {'words':words, 'classes':classes, 'train_x':train_x, 'train_y':train_y}, open( \"training_data\", \"wb\" ) )"
      ],
      "metadata": {
        "colab": {
          "base_uri": "https://localhost:8080/"
        },
        "id": "_pmaWS-RPaLD",
        "outputId": "4c7898d2-015d-4674-8a17-1cbf86de36e3"
      },
      "execution_count": null,
      "outputs": [
        {
          "output_type": "stream",
          "name": "stdout",
          "text": [
            "Se guarda el array..\n"
          ]
        }
      ]
    },
    {
      "cell_type": "code",
      "source": [
        "print(\"Abre el entrenamiento....\")\n",
        "data = pickle.load( open( \"training_data\", \"rb\" ) )\n",
        "words = data['words']\n",
        "classes = data['classes']\n",
        "train_x = data['train_x']\n",
        "train_y = data['train_y']\n",
        "\n",
        "\n",
        "with open('intents.json') as json_data:\n",
        "    intents = json.load(json_data)\n",
        "    \n",
        "print(\"Inicia el modelo......\")\n",
        "# load our saved model\n",
        "model.load('./model.tflearn')"
      ],
      "metadata": {
        "colab": {
          "base_uri": "https://localhost:8080/"
        },
        "id": "vrmhCRWdPdTz",
        "outputId": "2bb98263-21f7-4751-9f44-8b6d125e079e"
      },
      "execution_count": null,
      "outputs": [
        {
          "output_type": "stream",
          "name": "stdout",
          "text": [
            "Abre el entrenamiento....\n",
            "Inicia el modelo......\n"
          ]
        }
      ]
    },
    {
      "cell_type": "code",
      "source": [
        "def clean_up_sentence(sentence):\n",
        "    # It Tokenize or Break it into the constituents parts of Sentense.\n",
        "    sentence_words = nltk.word_tokenize(sentence)\n",
        "    # Stemming means to find the root of the word.\n",
        "    sentence_words = [stemmer.stem(word.lower()) for word in sentence_words]\n",
        "    return sentence_words\n",
        "\n",
        "# Return the Array of Bag of Words: True or False and 0 or 1 for each word of bag that exists in the Sentence\n",
        "def bow(sentence, words, show_details=False):\n",
        "    sentence_words = clean_up_sentence(sentence)\n",
        "    bag = [0]*len(words)\n",
        "    for s in sentence_words:\n",
        "        for i,w in enumerate(words):\n",
        "            if w == s:\n",
        "                bag[i] = 1\n",
        "                if show_details:\n",
        "                    print (\"found in bag: %s\" % w)\n",
        "    return(np.array(bag))\n",
        "\n",
        "ERROR_THRESHOLD = 0.25\n",
        "print(\"ERROR_THRESHOLD = 0.25\")\n",
        "\n",
        "def classify(sentence):\n",
        "    # Prediction or To Get the Posibility or Probability from the Model\n",
        "    results = model.predict([bow(sentence, words)])[0]\n",
        "    # Exclude those results which are Below Threshold\n",
        "    results = [[i,r] for i,r in enumerate(results) if r>ERROR_THRESHOLD]\n",
        "    # Sorting is Done because heigher Confidence Answer comes first.\n",
        "    results.sort(key=lambda x: x[1], reverse=True)\n",
        "    return_list = []\n",
        "    for r in results:\n",
        "        return_list.append((classes[r[0]], r[1])) #Tuppl -> Intent and Probability\n",
        "    return return_list\n",
        "\n",
        "def response(sentence, userID='123', show_details=False):\n",
        "    results = classify(sentence)\n",
        "    # That Means if Classification is Done then Find the Matching Tag.\n",
        "    if results:\n",
        "        # Long Loop to get the Result.\n",
        "        while results:\n",
        "            for i in intents['intents']:\n",
        "                # Tag Finding\n",
        "                if i['tag'] == results[0][0]:\n",
        "                    # Random Response from High Order Probabilities\n",
        "                    return print(random.choice(i['responses']))\n",
        "\n",
        "            results.pop(0)"
      ],
      "metadata": {
        "colab": {
          "base_uri": "https://localhost:8080/"
        },
        "id": "EctXdNJ3PjiS",
        "outputId": "8fac87ea-3f91-4c29-c710-77861a2bfe8f"
      },
      "execution_count": null,
      "outputs": [
        {
          "output_type": "stream",
          "name": "stdout",
          "text": [
            "ERROR_THRESHOLD = 0.25\n"
          ]
        }
      ]
    },
    {
      "cell_type": "code",
      "source": [
        "while True:\n",
        "    input_data = input(\"You- \")\n",
        "    answer = response(input_data)\n",
        "    answer"
      ],
      "metadata": {
        "id": "XRaGpeUUPoBD"
      },
      "execution_count": null,
      "outputs": []
    }
  ],
  "metadata": {
    "colab": {
      "provenance": [],
      "authorship_tag": "ABX9TyMc3omFHW+H27dc6VMwnIhm",
      "include_colab_link": true
    },
    "kernelspec": {
      "display_name": "Python 3",
      "name": "python3"
    },
    "language_info": {
      "name": "python"
    }
  },
  "nbformat": 4,
  "nbformat_minor": 0
}